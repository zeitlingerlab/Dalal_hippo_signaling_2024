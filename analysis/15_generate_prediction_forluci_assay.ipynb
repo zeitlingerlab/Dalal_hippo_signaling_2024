{
 "cells": [
  {
   "cell_type": "markdown",
   "metadata": {
    "toc": true
   },
   "source": [
    "<h1>Table of Contents<span class=\"tocSkip\"></span></h1>\n",
    "<div class=\"toc\"><ul class=\"toc-item\"><li><span><a href=\"#Introduction\" data-toc-modified-id=\"Introduction-1\"><span class=\"toc-item-num\">1&nbsp;&nbsp;</span>Introduction</a></span></li><li><span><a href=\"#BPNet-Setup\" data-toc-modified-id=\"BPNet-Setup-2\"><span class=\"toc-item-num\">2&nbsp;&nbsp;</span>BPNet Setup</a></span><ul class=\"toc-item\"><li><span><a href=\"#Inputs:\" data-toc-modified-id=\"Inputs:-2.1\"><span class=\"toc-item-num\">2.1&nbsp;&nbsp;</span>Inputs:</a></span></li></ul></li><li><span><a href=\"#Import-data-needed\" data-toc-modified-id=\"Import-data-needed-3\"><span class=\"toc-item-num\">3&nbsp;&nbsp;</span>Import data needed</a></span><ul class=\"toc-item\"><li><span><a href=\"#Generate-the-importance-scores\" data-toc-modified-id=\"Generate-the-importance-scores-3.1\"><span class=\"toc-item-num\">3.1&nbsp;&nbsp;</span>Generate the importance scores</a></span></li></ul></li><li><span><a href=\"#Generate-predictions\" data-toc-modified-id=\"Generate-predictions-4\"><span class=\"toc-item-num\">4&nbsp;&nbsp;</span>Generate predictions</a></span><ul class=\"toc-item\"><li><span><a href=\"#Reformat-predictions\" data-toc-modified-id=\"Reformat-predictions-4.1\"><span class=\"toc-item-num\">4.1&nbsp;&nbsp;</span>Reformat predictions</a></span></li></ul></li><li><span><a href=\"#Export-predictions\" data-toc-modified-id=\"Export-predictions-5\"><span class=\"toc-item-num\">5&nbsp;&nbsp;</span>Export predictions</a></span></li></ul></div>"
   ]
  },
  {
   "cell_type": "markdown",
   "metadata": {},
   "source": [
    "# Introduction\n",
    "\n",
    "We want to generate prediction profiles and importance scores for given plasmid sequences based on the trained a model in mtsc cells.\n",
    "\n",
    "\n",
    "# BPNet Setup\n",
    "\n"
   ]
  },
  {
   "cell_type": "code",
   "execution_count": 1,
   "metadata": {
    "ExecuteTime": {
     "end_time": "2019-03-19T19:44:29.408353Z",
     "start_time": "2019-03-19T19:44:06.686002Z"
    }
   },
   "outputs": [
    {
     "name": "stdout",
     "output_type": "stream",
     "text": [
      "Launching packages...\n"
     ]
    },
    {
     "name": "stderr",
     "output_type": "stream",
     "text": [
      "Using TensorFlow backend.\n"
     ]
    },
    {
     "name": "stdout",
     "output_type": "stream",
     "text": [
      "WARNING:tensorflow:From /home/kd2200/anaconda3/envs/bpnet/lib/python3.6/site-packages/Keras-2.2.4-py3.6.egg/keras/optimizers.py:790: The name tf.train.Optimizer is deprecated. Please use tf.compat.v1.train.Optimizer instead.\n",
      "\n"
     ]
    },
    {
     "name": "stderr",
     "output_type": "stream",
     "text": [
      "2022-11-19 15:00:28,340 [WARNING] From /home/kd2200/anaconda3/envs/bpnet/lib/python3.6/site-packages/Keras-2.2.4-py3.6.egg/keras/optimizers.py:790: The name tf.train.Optimizer is deprecated. Please use tf.compat.v1.train.Optimizer instead.\n",
      "\n",
      "/home/kd2200/anaconda3/envs/bpnet/lib/python3.6/site-packages/bpnet-0.0.21-py3.6.egg/bpnet/plot/heatmaps.py:6: MatplotlibDeprecationWarning: \n",
      "The mpl_toolkits.axes_grid1.colorbar module was deprecated in Matplotlib 3.2 and will be removed two minor releases later. Use matplotlib.colorbar instead.\n",
      "  from mpl_toolkits.axes_grid1.colorbar import colorbar\n",
      "2022-11-19 15:00:31,059 [INFO] Note: NumExpr detected 48 cores but \"NUMEXPR_MAX_THREADS\" not set, so enforcing safe limit of 8.\n",
      "2022-11-19 15:00:31,061 [INFO] NumExpr defaulting to 8 threads.\n"
     ]
    }
   ],
   "source": [
    "print(\"Launching packages...\")\n",
    "import pandas as pd \n",
    "import os\n",
    "import json\n",
    "import numpy as np\n",
    "import comet_ml\n",
    "from comet_ml import Experiment\n",
    "from collections import OrderedDict\n",
    "\n",
    "import os\n",
    "import sys\n",
    "import pandas as pd\n",
    "import numpy as np\n",
    "from pybedtools import BedTool\n",
    "from tqdm import tqdm\n",
    "from bpnet.cli.contrib import bpnet_contrib\n",
    "from bpnet.cli.modisco import cwm_scan\n",
    "from bpnet.cli.contrib import ContribFile\n",
    "from bpnet.BPNet import BPNetSeqModel\n",
    "from concise.preprocessing import encodeDNA\n",
    "from bpnet.simulate import random_seq, insert_motif\n",
    "from bpnet.plot.tracks import plot_tracks, to_neg"
   ]
  },
  {
   "cell_type": "code",
   "execution_count": 2,
   "metadata": {
    "ExecuteTime": {
     "end_time": "2019-03-19T19:46:37.906940Z",
     "start_time": "2019-03-19T19:44:29.419558Z"
    }
   },
   "outputs": [],
   "source": [
    "from pathlib import Path\n",
    "from concise.preprocessing import encodeDNA\n",
    "from concise.preprocessing.sequence import one_hot2string, DNA\n",
    "from bpnet.BPNet import BPNetSeqModel\n",
    "import warnings\n",
    "warnings.filterwarnings(\"ignore\")"
   ]
  },
  {
   "cell_type": "markdown",
   "metadata": {},
   "source": [
    "## Inputs:"
   ]
  },
  {
   "cell_type": "code",
   "execution_count": 3,
   "metadata": {
    "ExecuteTime": {
     "end_time": "2019-03-19T19:46:37.926781Z",
     "start_time": "2019-03-19T19:46:37.911751Z"
    }
   },
   "outputs": [],
   "source": [
    "#Set wd \n",
    "os.chdir(f'/n//projects/kd2200/analysis/BPNet/cegkttyz_tsc_bpnet/grid_search/final_cttgy_tsc_model/bpnet/analysis/fold_5/csv/for_preds/predictions/')\n"
   ]
  },
  {
   "cell_type": "code",
   "execution_count": 4,
   "metadata": {
    "ExecuteTime": {
     "end_time": "2019-03-19T19:46:38.141287Z",
     "start_time": "2019-03-19T19:46:37.929092Z"
    }
   },
   "outputs": [],
   "source": [
    "#Set model directory \n",
    "\n",
    "mdir = f'/n//projects/kd2200/analysis/BPNet/cegkttyz_tsc_bpnet/grid_search/final_cttgy_tsc_model/bpnet/model/dataspec.yaml_default_fold_5/'\n"
   ]
  },
  {
   "cell_type": "code",
   "execution_count": 5,
   "metadata": {
    "ExecuteTime": {
     "end_time": "2019-03-19T19:47:40.952497Z",
     "start_time": "2019-03-19T19:46:38.144933Z"
    },
    "collapsed": true,
    "jupyter": {
     "outputs_hidden": true
    }
   },
   "outputs": [
    {
     "name": "stdout",
     "output_type": "stream",
     "text": [
      "WARNING:tensorflow:From /home/kd2200/anaconda3/envs/bpnet/lib/python3.6/site-packages/Keras-2.2.4-py3.6.egg/keras/backend/tensorflow_backend.py:517: The name tf.placeholder is deprecated. Please use tf.compat.v1.placeholder instead.\n",
      "\n"
     ]
    },
    {
     "name": "stderr",
     "output_type": "stream",
     "text": [
      "2022-11-19 15:00:37,114 [WARNING] From /home/kd2200/anaconda3/envs/bpnet/lib/python3.6/site-packages/Keras-2.2.4-py3.6.egg/keras/backend/tensorflow_backend.py:517: The name tf.placeholder is deprecated. Please use tf.compat.v1.placeholder instead.\n",
      "\n"
     ]
    },
    {
     "name": "stdout",
     "output_type": "stream",
     "text": [
      "WARNING:tensorflow:From /home/kd2200/anaconda3/envs/bpnet/lib/python3.6/site-packages/Keras-2.2.4-py3.6.egg/keras/backend/tensorflow_backend.py:4138: The name tf.random_uniform is deprecated. Please use tf.random.uniform instead.\n",
      "\n"
     ]
    },
    {
     "name": "stderr",
     "output_type": "stream",
     "text": [
      "2022-11-19 15:00:37,142 [WARNING] From /home/kd2200/anaconda3/envs/bpnet/lib/python3.6/site-packages/Keras-2.2.4-py3.6.egg/keras/backend/tensorflow_backend.py:4138: The name tf.random_uniform is deprecated. Please use tf.random.uniform instead.\n",
      "\n"
     ]
    },
    {
     "name": "stdout",
     "output_type": "stream",
     "text": [
      "WARNING:tensorflow:From /home/kd2200/anaconda3/envs/bpnet/lib/python3.6/site-packages/Keras-2.2.4-py3.6.egg/keras/backend/tensorflow_backend.py:174: The name tf.get_default_session is deprecated. Please use tf.compat.v1.get_default_session instead.\n",
      "\n"
     ]
    },
    {
     "name": "stderr",
     "output_type": "stream",
     "text": [
      "2022-11-19 15:00:37,873 [WARNING] From /home/kd2200/anaconda3/envs/bpnet/lib/python3.6/site-packages/Keras-2.2.4-py3.6.egg/keras/backend/tensorflow_backend.py:174: The name tf.get_default_session is deprecated. Please use tf.compat.v1.get_default_session instead.\n",
      "\n"
     ]
    },
    {
     "name": "stdout",
     "output_type": "stream",
     "text": [
      "WARNING:tensorflow:From /home/kd2200/anaconda3/envs/bpnet/lib/python3.6/site-packages/Keras-2.2.4-py3.6.egg/keras/backend/tensorflow_backend.py:181: The name tf.ConfigProto is deprecated. Please use tf.compat.v1.ConfigProto instead.\n",
      "\n"
     ]
    },
    {
     "name": "stderr",
     "output_type": "stream",
     "text": [
      "2022-11-19 15:00:37,875 [WARNING] From /home/kd2200/anaconda3/envs/bpnet/lib/python3.6/site-packages/Keras-2.2.4-py3.6.egg/keras/backend/tensorflow_backend.py:181: The name tf.ConfigProto is deprecated. Please use tf.compat.v1.ConfigProto instead.\n",
      "\n"
     ]
    },
    {
     "name": "stdout",
     "output_type": "stream",
     "text": [
      "WARNING:tensorflow:From /home/kd2200/anaconda3/envs/bpnet/lib/python3.6/site-packages/Keras-2.2.4-py3.6.egg/keras/backend/tensorflow_backend.py:186: The name tf.Session is deprecated. Please use tf.compat.v1.Session instead.\n",
      "\n"
     ]
    },
    {
     "name": "stderr",
     "output_type": "stream",
     "text": [
      "2022-11-19 15:00:37,877 [WARNING] From /home/kd2200/anaconda3/envs/bpnet/lib/python3.6/site-packages/Keras-2.2.4-py3.6.egg/keras/backend/tensorflow_backend.py:186: The name tf.Session is deprecated. Please use tf.compat.v1.Session instead.\n",
      "\n"
     ]
    },
    {
     "name": "stdout",
     "output_type": "stream",
     "text": [
      "WARNING:tensorflow:From /home/kd2200/anaconda3/envs/bpnet/lib/python3.6/site-packages/Keras-2.2.4-py3.6.egg/keras/backend/tensorflow_backend.py:190: The name tf.global_variables is deprecated. Please use tf.compat.v1.global_variables instead.\n",
      "\n"
     ]
    },
    {
     "name": "stderr",
     "output_type": "stream",
     "text": [
      "2022-11-19 15:00:37,892 [WARNING] From /home/kd2200/anaconda3/envs/bpnet/lib/python3.6/site-packages/Keras-2.2.4-py3.6.egg/keras/backend/tensorflow_backend.py:190: The name tf.global_variables is deprecated. Please use tf.compat.v1.global_variables instead.\n",
      "\n"
     ]
    },
    {
     "name": "stdout",
     "output_type": "stream",
     "text": [
      "WARNING:tensorflow:From /home/kd2200/anaconda3/envs/bpnet/lib/python3.6/site-packages/Keras-2.2.4-py3.6.egg/keras/backend/tensorflow_backend.py:199: The name tf.is_variable_initialized is deprecated. Please use tf.compat.v1.is_variable_initialized instead.\n",
      "\n"
     ]
    },
    {
     "name": "stderr",
     "output_type": "stream",
     "text": [
      "2022-11-19 15:00:37,894 [WARNING] From /home/kd2200/anaconda3/envs/bpnet/lib/python3.6/site-packages/Keras-2.2.4-py3.6.egg/keras/backend/tensorflow_backend.py:199: The name tf.is_variable_initialized is deprecated. Please use tf.compat.v1.is_variable_initialized instead.\n",
      "\n"
     ]
    },
    {
     "name": "stdout",
     "output_type": "stream",
     "text": [
      "WARNING:tensorflow:From /home/kd2200/anaconda3/envs/bpnet/lib/python3.6/site-packages/Keras-2.2.4-py3.6.egg/keras/backend/tensorflow_backend.py:206: The name tf.variables_initializer is deprecated. Please use tf.compat.v1.variables_initializer instead.\n",
      "\n"
     ]
    },
    {
     "name": "stderr",
     "output_type": "stream",
     "text": [
      "2022-11-19 15:00:38,021 [WARNING] From /home/kd2200/anaconda3/envs/bpnet/lib/python3.6/site-packages/Keras-2.2.4-py3.6.egg/keras/backend/tensorflow_backend.py:206: The name tf.variables_initializer is deprecated. Please use tf.compat.v1.variables_initializer instead.\n",
      "\n"
     ]
    },
    {
     "name": "stdout",
     "output_type": "stream",
     "text": [
      "WARNING:tensorflow:\n",
      "The TensorFlow contrib module will not be included in TensorFlow 2.0.\n",
      "For more information, please see:\n",
      "  * https://github.com/tensorflow/community/blob/master/rfcs/20180907-contrib-sunset.md\n",
      "  * https://github.com/tensorflow/addons\n",
      "  * https://github.com/tensorflow/io (for I/O related ops)\n",
      "If you depend on functionality not listed there, please file an issue.\n",
      "\n"
     ]
    },
    {
     "name": "stderr",
     "output_type": "stream",
     "text": [
      "2022-11-19 15:00:38,285 [WARNING] \n",
      "The TensorFlow contrib module will not be included in TensorFlow 2.0.\n",
      "For more information, please see:\n",
      "  * https://github.com/tensorflow/community/blob/master/rfcs/20180907-contrib-sunset.md\n",
      "  * https://github.com/tensorflow/addons\n",
      "  * https://github.com/tensorflow/io (for I/O related ops)\n",
      "If you depend on functionality not listed there, please file an issue.\n",
      "\n"
     ]
    },
    {
     "name": "stdout",
     "output_type": "stream",
     "text": [
      "WARNING:tensorflow:From /home/kd2200/anaconda3/envs/bpnet/lib/python3.6/site-packages/bpnet-0.0.21-py3.6.egg/bpnet/losses.py:27: Multinomial.__init__ (from tensorflow.python.ops.distributions.multinomial) is deprecated and will be removed after 2019-01-01.\n",
      "Instructions for updating:\n",
      "The TensorFlow Distributions library has moved to TensorFlow Probability (https://github.com/tensorflow/probability). You should update all references to use `tfp.distributions` instead of `tf.distributions`.\n"
     ]
    },
    {
     "name": "stderr",
     "output_type": "stream",
     "text": [
      "2022-11-19 15:00:38,287 [WARNING] From /home/kd2200/anaconda3/envs/bpnet/lib/python3.6/site-packages/bpnet-0.0.21-py3.6.egg/bpnet/losses.py:27: Multinomial.__init__ (from tensorflow.python.ops.distributions.multinomial) is deprecated and will be removed after 2019-01-01.\n",
      "Instructions for updating:\n",
      "The TensorFlow Distributions library has moved to TensorFlow Probability (https://github.com/tensorflow/probability). You should update all references to use `tfp.distributions` instead of `tf.distributions`.\n"
     ]
    },
    {
     "name": "stdout",
     "output_type": "stream",
     "text": [
      "WARNING:tensorflow:From /home/kd2200/anaconda3/envs/bpnet/lib/python3.6/site-packages/tensorflow_core/python/ops/distributions/multinomial.py:217: Distribution.__init__ (from tensorflow.python.ops.distributions.distribution) is deprecated and will be removed after 2019-01-01.\n",
      "Instructions for updating:\n",
      "The TensorFlow Distributions library has moved to TensorFlow Probability (https://github.com/tensorflow/probability). You should update all references to use `tfp.distributions` instead of `tf.distributions`.\n"
     ]
    },
    {
     "name": "stderr",
     "output_type": "stream",
     "text": [
      "2022-11-19 15:00:38,294 [WARNING] From /home/kd2200/anaconda3/envs/bpnet/lib/python3.6/site-packages/tensorflow_core/python/ops/distributions/multinomial.py:217: Distribution.__init__ (from tensorflow.python.ops.distributions.distribution) is deprecated and will be removed after 2019-01-01.\n",
      "Instructions for updating:\n",
      "The TensorFlow Distributions library has moved to TensorFlow Probability (https://github.com/tensorflow/probability). You should update all references to use `tfp.distributions` instead of `tf.distributions`.\n"
     ]
    },
    {
     "name": "stdout",
     "output_type": "stream",
     "text": [
      "WARNING:tensorflow:From /home/kd2200/anaconda3/envs/bpnet/lib/python3.6/site-packages/bpnet-0.0.21-py3.6.egg/bpnet/losses.py:30: to_float (from tensorflow.python.ops.math_ops) is deprecated and will be removed in a future version.\n",
      "Instructions for updating:\n",
      "Use `tf.cast` instead.\n"
     ]
    },
    {
     "name": "stderr",
     "output_type": "stream",
     "text": [
      "2022-11-19 15:00:38,299 [WARNING] From /home/kd2200/anaconda3/envs/bpnet/lib/python3.6/site-packages/bpnet-0.0.21-py3.6.egg/bpnet/losses.py:30: to_float (from tensorflow.python.ops.math_ops) is deprecated and will be removed in a future version.\n",
      "Instructions for updating:\n",
      "Use `tf.cast` instead.\n"
     ]
    },
    {
     "name": "stdout",
     "output_type": "stream",
     "text": [
      "WARNING:tensorflow:From /home/kd2200/anaconda3/envs/bpnet/lib/python3.6/site-packages/Keras-2.2.4-py3.6.egg/keras/backend/tensorflow_backend.py:986: The name tf.assign_add is deprecated. Please use tf.compat.v1.assign_add instead.\n",
      "\n"
     ]
    },
    {
     "name": "stderr",
     "output_type": "stream",
     "text": [
      "2022-11-19 15:00:39,736 [WARNING] From /home/kd2200/anaconda3/envs/bpnet/lib/python3.6/site-packages/Keras-2.2.4-py3.6.egg/keras/backend/tensorflow_backend.py:986: The name tf.assign_add is deprecated. Please use tf.compat.v1.assign_add instead.\n",
      "\n"
     ]
    },
    {
     "name": "stdout",
     "output_type": "stream",
     "text": [
      "WARNING:tensorflow:From /home/kd2200/anaconda3/envs/bpnet/lib/python3.6/site-packages/Keras-2.2.4-py3.6.egg/keras/backend/tensorflow_backend.py:973: The name tf.assign is deprecated. Please use tf.compat.v1.assign instead.\n",
      "\n"
     ]
    },
    {
     "name": "stderr",
     "output_type": "stream",
     "text": [
      "2022-11-19 15:00:40,228 [WARNING] From /home/kd2200/anaconda3/envs/bpnet/lib/python3.6/site-packages/Keras-2.2.4-py3.6.egg/keras/backend/tensorflow_backend.py:973: The name tf.assign is deprecated. Please use tf.compat.v1.assign instead.\n",
      "\n"
     ]
    }
   ],
   "source": [
    "#bpnet = BPNetPredictor.from_mdir(mdir)\n",
    "model = BPNetSeqModel.from_mdir(mdir)"
   ]
  },
  {
   "cell_type": "markdown",
   "metadata": {},
   "source": [
    "# Import data needed\n"
   ]
  },
  {
   "cell_type": "code",
   "execution_count": 6,
   "metadata": {
    "ExecuteTime": {
     "end_time": "2019-03-19T19:50:28.113348Z",
     "start_time": "2019-03-19T19:50:27.964052Z"
    }
   },
   "outputs": [
    {
     "name": "stdout",
     "output_type": "stream",
     "text": [
      "Reading sequences...\n"
     ]
    },
    {
     "data": {
      "text/html": [
       "<div>\n",
       "<style scoped>\n",
       "    .dataframe tbody tr th:only-of-type {\n",
       "        vertical-align: middle;\n",
       "    }\n",
       "\n",
       "    .dataframe tbody tr th {\n",
       "        vertical-align: top;\n",
       "    }\n",
       "\n",
       "    .dataframe thead th {\n",
       "        text-align: right;\n",
       "    }\n",
       "</style>\n",
       "<table border=\"1\" class=\"dataframe\">\n",
       "  <thead>\n",
       "    <tr style=\"text-align: right;\">\n",
       "      <th></th>\n",
       "      <th>name</th>\n",
       "      <th>sequence</th>\n",
       "    </tr>\n",
       "  </thead>\n",
       "  <tbody>\n",
       "    <tr>\n",
       "      <th>0</th>\n",
       "      <td>candidate_1_ double_motif _WT</td>\n",
       "      <td>TGAGGGTGTTCACTTTACTCGTGGCGTCATATGAGAGTGCCACAGC...</td>\n",
       "    </tr>\n",
       "    <tr>\n",
       "      <th>1</th>\n",
       "      <td>candidate_1_double_motif_mut_1</td>\n",
       "      <td>TGAGGGTGTTCACTTTACTCGTGGCGTCATATGAGAGTGCCACAGC...</td>\n",
       "    </tr>\n",
       "    <tr>\n",
       "      <th>2</th>\n",
       "      <td>candidate_1_double_motif_mut_2</td>\n",
       "      <td>TGAGGGTGTTCACTTTACTCGTGGCGTCATATGAGAGTGCCACAGC...</td>\n",
       "    </tr>\n",
       "    <tr>\n",
       "      <th>3</th>\n",
       "      <td>candidate_1_double_motif_mut_3</td>\n",
       "      <td>TGAGGGTGTTCACTTTACTCGTGGCGTCATATGAGAGTGCCACAGC...</td>\n",
       "    </tr>\n",
       "  </tbody>\n",
       "</table>\n",
       "</div>"
      ],
      "text/plain": [
       "                             name  \\\n",
       "0   candidate_1_ double_motif _WT   \n",
       "1  candidate_1_double_motif_mut_1   \n",
       "2  candidate_1_double_motif_mut_2   \n",
       "3  candidate_1_double_motif_mut_3   \n",
       "\n",
       "                                            sequence  \n",
       "0  TGAGGGTGTTCACTTTACTCGTGGCGTCATATGAGAGTGCCACAGC...  \n",
       "1  TGAGGGTGTTCACTTTACTCGTGGCGTCATATGAGAGTGCCACAGC...  \n",
       "2  TGAGGGTGTTCACTTTACTCGTGGCGTCATATGAGAGTGCCACAGC...  \n",
       "3  TGAGGGTGTTCACTTTACTCGTGGCGTCATATGAGAGTGCCACAGC...  "
      ]
     },
     "execution_count": 6,
     "metadata": {},
     "output_type": "execute_result"
    }
   ],
   "source": [
    "print(\"Reading sequences...\")\n",
    "can_cited2_input=pd.read_csv(\"../can_cited2_1000bp.csv\") \n",
    "can_amotl2_input=pd.read_csv(\"../can_amotl2_1000bp.csv\") \n",
    "can_bmp7_input=pd.read_csv(\"../can_bmp7_1000bp_tty.csv\") \n",
    "can_tjp1_input=pd.read_csv(\"../can_tjp1_1000bp_negstrand.csv\") \n",
    "can_rin3_input=pd.read_csv(\"../can_rin3_2bpdel_1000bp.csv\") \n",
    "can_ezr_input=pd.read_csv(\"../can_ezr_1000bp.csv\") \n",
    "can_tjp1_input.head(n=10)"
   ]
  },
  {
   "cell_type": "markdown",
   "metadata": {},
   "source": [
    "## Generate the importance scores \n",
    "Apply the trained Oct4/Sox2/Klf4/Nanog model to predict importance scores.\n",
    "\n",
    "1. 1-hot encode the data.  \n",
    "2. Predict the ChIP-nexus profiles using BPNet "
   ]
  },
  {
   "cell_type": "code",
   "execution_count": 7,
   "metadata": {
    "ExecuteTime": {
     "end_time": "2019-03-19T19:50:30.849345Z",
     "start_time": "2019-03-19T19:50:30.827781Z"
    }
   },
   "outputs": [],
   "source": [
    "#1-hot-encode the data\n",
    "can_cited2 = encodeDNA(can_cited2_input.sequence.str.upper())\n",
    "can_amotl2 = encodeDNA(can_amotl2_input.sequence.str.upper())\n",
    "can_bmp7 = encodeDNA(can_bmp7_input.sequence.str.upper())\n",
    "can_tjp1 = encodeDNA(can_tjp1_input.sequence.str.upper())\n",
    "can_rin3 = encodeDNA(can_rin3_input.sequence.str.upper())\n",
    "can_ezr = encodeDNA(can_ezr_input.sequence.str.upper())"
   ]
  },
  {
   "cell_type": "markdown",
   "metadata": {},
   "source": [
    "# Generate predictions"
   ]
  },
  {
   "cell_type": "code",
   "execution_count": 8,
   "metadata": {
    "ExecuteTime": {
     "end_time": "2019-03-19T19:51:00.489367Z",
     "start_time": "2019-03-19T19:50:32.475225Z"
    }
   },
   "outputs": [
    {
     "name": "stdout",
     "output_type": "stream",
     "text": [
      "WARNING:tensorflow:From /home/kd2200/anaconda3/envs/bpnet/lib/python3.6/site-packages/bpnet-0.0.21-py3.6.egg/bpnet/heads.py:350: The name tf.get_default_graph is deprecated. Please use tf.compat.v1.get_default_graph instead.\n",
      "\n"
     ]
    },
    {
     "name": "stderr",
     "output_type": "stream",
     "text": [
      "2022-11-19 15:01:09,473 [WARNING] From /home/kd2200/anaconda3/envs/bpnet/lib/python3.6/site-packages/bpnet-0.0.21-py3.6.egg/bpnet/heads.py:350: The name tf.get_default_graph is deprecated. Please use tf.compat.v1.get_default_graph instead.\n",
      "\n"
     ]
    },
    {
     "name": "stdout",
     "output_type": "stream",
     "text": [
      "WARNING:tensorflow:From /home/kd2200/anaconda3/envs/bpnet/lib/python3.6/site-packages/bpnet-0.0.21-py3.6.egg/bpnet/heads.py:318: calling softmax (from tensorflow.python.ops.nn_ops) with dim is deprecated and will be removed in a future version.\n",
      "Instructions for updating:\n",
      "dim is deprecated, use axis instead\n"
     ]
    },
    {
     "name": "stderr",
     "output_type": "stream",
     "text": [
      "2022-11-19 15:01:09,475 [WARNING] From /home/kd2200/anaconda3/envs/bpnet/lib/python3.6/site-packages/bpnet-0.0.21-py3.6.egg/bpnet/heads.py:318: calling softmax (from tensorflow.python.ops.nn_ops) with dim is deprecated and will be removed in a future version.\n",
      "Instructions for updating:\n",
      "dim is deprecated, use axis instead\n"
     ]
    },
    {
     "name": "stdout",
     "output_type": "stream",
     "text": [
      "WARNING:tensorflow:From /home/kd2200/anaconda3/envs/bpnet/lib/python3.6/site-packages/Keras-2.2.4-py3.6.egg/keras/backend/tensorflow_backend.py:95: The name tf.reset_default_graph is deprecated. Please use tf.compat.v1.reset_default_graph instead.\n",
      "\n"
     ]
    },
    {
     "name": "stderr",
     "output_type": "stream",
     "text": [
      "2022-11-19 15:01:13,080 [WARNING] From /home/kd2200/anaconda3/envs/bpnet/lib/python3.6/site-packages/Keras-2.2.4-py3.6.egg/keras/backend/tensorflow_backend.py:95: The name tf.reset_default_graph is deprecated. Please use tf.compat.v1.reset_default_graph instead.\n",
      "\n"
     ]
    },
    {
     "name": "stdout",
     "output_type": "stream",
     "text": [
      "WARNING:tensorflow:From /home/kd2200/anaconda3/envs/bpnet/lib/python3.6/site-packages/Keras-2.2.4-py3.6.egg/keras/backend/tensorflow_backend.py:98: The name tf.placeholder_with_default is deprecated. Please use tf.compat.v1.placeholder_with_default instead.\n",
      "\n"
     ]
    },
    {
     "name": "stderr",
     "output_type": "stream",
     "text": [
      "2022-11-19 15:01:13,082 [WARNING] From /home/kd2200/anaconda3/envs/bpnet/lib/python3.6/site-packages/Keras-2.2.4-py3.6.egg/keras/backend/tensorflow_backend.py:98: The name tf.placeholder_with_default is deprecated. Please use tf.compat.v1.placeholder_with_default instead.\n",
      "\n"
     ]
    },
    {
     "name": "stdout",
     "output_type": "stream",
     "text": [
      "DeepExplain: running \"deeplift\" explanation method (5)\n",
      "Model with multiple inputs:  True\n",
      "WARNING:tensorflow:From /home/kd2200/anaconda3/envs/bpnet/lib/python3.6/site-packages/deepexplain/tensorflow/methods.py:287: where (from tensorflow.python.ops.array_ops) is deprecated and will be removed in a future version.\n",
      "Instructions for updating:\n",
      "Use tf.where in 2.0, which has the same broadcast rule as np.where\n"
     ]
    },
    {
     "name": "stderr",
     "output_type": "stream",
     "text": [
      "2022-11-19 15:01:19,487 [WARNING] From /home/kd2200/anaconda3/envs/bpnet/lib/python3.6/site-packages/deepexplain/tensorflow/methods.py:287: where (from tensorflow.python.ops.array_ops) is deprecated and will be removed in a future version.\n",
      "Instructions for updating:\n",
      "Use tf.where in 2.0, which has the same broadcast rule as np.where\n"
     ]
    },
    {
     "name": "stdout",
     "output_type": "stream",
     "text": [
      "DeepExplain: running \"deeplift\" explanation method (5)\n",
      "Model with multiple inputs:  True\n",
      "DeepExplain: running \"deeplift\" explanation method (5)\n",
      "Model with multiple inputs:  True\n",
      "DeepExplain: running \"deeplift\" explanation method (5)\n",
      "Model with multiple inputs:  True\n",
      "DeepExplain: running \"deeplift\" explanation method (5)\n",
      "Model with multiple inputs:  True\n",
      "DeepExplain: running \"deeplift\" explanation method (5)\n",
      "Model with multiple inputs:  True\n",
      "DeepExplain: running \"deeplift\" explanation method (5)\n",
      "Model with multiple inputs:  True\n",
      "DeepExplain: running \"deeplift\" explanation method (5)\n",
      "Model with multiple inputs:  True\n",
      "DeepExplain: running \"deeplift\" explanation method (5)\n",
      "Model with multiple inputs:  True\n",
      "DeepExplain: running \"deeplift\" explanation method (5)\n",
      "Model with multiple inputs:  True\n",
      "DeepExplain: running \"deeplift\" explanation method (5)\n",
      "Model with multiple inputs:  True\n",
      "DeepExplain: running \"deeplift\" explanation method (5)\n",
      "Model with multiple inputs:  True\n",
      "DeepExplain: running \"deeplift\" explanation method (5)\n",
      "Model with multiple inputs:  True\n",
      "DeepExplain: running \"deeplift\" explanation method (5)\n",
      "Model with multiple inputs:  True\n",
      "DeepExplain: running \"deeplift\" explanation method (5)\n",
      "Model with multiple inputs:  True\n",
      "DeepExplain: running \"deeplift\" explanation method (5)\n",
      "Model with multiple inputs:  True\n",
      "DeepExplain: running \"deeplift\" explanation method (5)\n",
      "Model with multiple inputs:  True\n",
      "DeepExplain: running \"deeplift\" explanation method (5)\n",
      "Model with multiple inputs:  True\n",
      "DeepExplain: running \"deeplift\" explanation method (5)\n",
      "Model with multiple inputs:  True\n",
      "DeepExplain: running \"deeplift\" explanation method (5)\n",
      "Model with multiple inputs:  True\n",
      "DeepExplain: running \"deeplift\" explanation method (5)\n",
      "Model with multiple inputs:  True\n",
      "DeepExplain: running \"deeplift\" explanation method (5)\n",
      "Model with multiple inputs:  True\n",
      "DeepExplain: running \"deeplift\" explanation method (5)\n",
      "Model with multiple inputs:  True\n",
      "DeepExplain: running \"deeplift\" explanation method (5)\n",
      "Model with multiple inputs:  True\n",
      "DeepExplain: running \"deeplift\" explanation method (5)\n",
      "Model with multiple inputs:  True\n"
     ]
    }
   ],
   "source": [
    "#Predict the data\n",
    "can_cited2_seq_preds = model.predict_all(can_cited2, contrib_method='deeplift')\n",
    "can_amotl2_seq_preds = model.predict_all(can_amotl2, contrib_method='deeplift')\n",
    "can_bmp7_seq_preds = model.predict_all(can_bmp7, contrib_method='deeplift')\n",
    "can_tjp1_seq_preds = model.predict_all(can_tjp1, contrib_method='deeplift')\n",
    "can_rin3_seq_preds = model.predict_all(can_rin3, contrib_method='deeplift')\n",
    "can_ezr_seq_preds = model.predict_all(can_ezr, contrib_method='deeplift')"
   ]
  },
  {
   "cell_type": "markdown",
   "metadata": {},
   "source": [
    "## Reformat predictions "
   ]
  },
  {
   "cell_type": "code",
   "execution_count": 9,
   "metadata": {
    "ExecuteTime": {
     "end_time": "2019-03-19T19:51:07.843991Z",
     "start_time": "2019-03-19T19:51:00.492900Z"
    }
   },
   "outputs": [],
   "source": [
    "#from basepair.plot.tracks import plot_tracks, filter_tracks\n",
    "#from basepair.plot.profiles import plot_stranded_profile\n",
    "def bpnet_format_dict_to_df(dict_obj):\n",
    "    tead4_prediction = pd.DataFrame(data= dict_obj['p'][\"tead4\"], columns = [\"pos\", \"neg\"])\n",
    "    tfap2c_prediction = pd.DataFrame(data= dict_obj['p'][\"tfap2c\"], columns = [\"pos\", \"neg\"])\n",
    "    cdx2_prediction = pd.DataFrame(data= dict_obj['p'][\"cdx2\"], columns = [\"pos\", \"neg\"])\n",
    "    gata3_prediction = pd.DataFrame(data= dict_obj['p'][\"gata3\"], columns = [\"pos\", \"neg\"])\n",
    "    yap1_prediction = pd.DataFrame(data= dict_obj['p'][\"yap1\"], columns = [\"pos\", \"neg\"])\n",
    "\n",
    "    tead4_importance = pd.DataFrame(data= dict_obj['i'][\"tead4\"], columns = [\"score\"])\n",
    "    tfap2c_importance = pd.DataFrame(data= dict_obj['i'][\"tfap2c\"], columns = [\"score\"])\n",
    "    cdx2_importance = pd.DataFrame(data= dict_obj['i'][\"cdx2\"], columns = [\"score\"])\n",
    "    gata3_importance = pd.DataFrame(data= dict_obj['i'][\"gata3\"], columns = [\"score\"])\n",
    "    yap1_importance = pd.DataFrame(data= dict_obj['i'][\"yap1\"], columns = [\"score\"])\n",
    "\n",
    "    tead4_data = pd.concat([tead4_prediction, tead4_importance], axis=1)\n",
    "    tfap2c_data = pd.concat([tfap2c_prediction, tfap2c_importance], axis=1)\n",
    "    cdx2_data = pd.concat([cdx2_prediction, cdx2_importance], axis=1)\n",
    "    gata3_data = pd.concat([gata3_prediction, gata3_importance], axis=1)\n",
    "    yap1_data = pd.concat([yap1_prediction, yap1_importance], axis=1)\n",
    "\n",
    "    tead4_data[\"factor\"]='Tead4'\n",
    "    tfap2c_data[\"factor\"]='Tfap2c'\n",
    "    cdx2_data[\"factor\"]='Cdx2'\n",
    "    gata3_data[\"factor\"]='Gata3'\n",
    "    yap1_data[\"factor\"]='Yap1'\n",
    "\n",
    "    tead4_data['position']=range(tead4_data.shape[0])\n",
    "    tfap2c_data['position']=range(tfap2c_data.shape[0])\n",
    "    cdx2_data['position']=range(cdx2_data.shape[0])\n",
    "    gata3_data['position']=range(gata3_data.shape[0])\n",
    "    yap1_data['position']=range(yap1_data.shape[0])\n",
    "\n",
    "\n",
    "    output_data = pd.concat([tead4_data, tfap2c_data, cdx2_data,gata3_data, yap1_data], axis=0) \n",
    "    return(output_data)"
   ]
  },
  {
   "cell_type": "code",
   "execution_count": 10,
   "metadata": {},
   "outputs": [],
   "source": [
    "def bpnet_get_dict_output(obj, tasks):\n",
    "    out = dict(p=obj['preds'],\n",
    "               i={t: obj['seq'] * (obj['contrib_score'][f'{t}/profile']['pos'] + obj['contrib_score'][f'{t}/profile']['neg'])/2 \n",
    "                  for ti,t in enumerate(tasks)})    \n",
    "    for i in range(len(out['i'])):\n",
    "        out['i'][bpnet.tasks[i]] = np.sum(out['i'][bpnet.tasks[i]], axis=1).tolist() #add quick loop to format seqs\n",
    "        \n",
    "    output_df=bpnet_format_dict_to_df(out)\n",
    "    \n",
    "    return(output_df)"
   ]
  },
  {
   "cell_type": "markdown",
   "metadata": {},
   "source": [
    "# Export predictions"
   ]
  },
  {
   "cell_type": "code",
   "execution_count": 11,
   "metadata": {
    "ExecuteTime": {
     "end_time": "2019-03-19T19:51:25.234994Z",
     "start_time": "2019-03-19T19:51:24.829578Z"
    }
   },
   "outputs": [],
   "source": [
    "def export_predictions_all(preds_all, tasks, contrib_type = 'profile'):\n",
    "    import sys\n",
    "    sys.path.insert(0, f'/n/projects/mw2098/shared_code/bpnet/scripts')\n",
    "    from data_format_functions import tidy_bpnet_predictions_nexus \n",
    "    \n",
    "    #Create empty pd.df to write into \n",
    "    preds_df = pd.DataFrame()\n",
    "    contrib_df = pd.DataFrame() \n",
    "    \n",
    "    #Tidy perturbations into a pd.df\n",
    "    for task in tasks:\n",
    "        for r in range(len(preds_all)):\n",
    "            p = {task: preds_all[r]['pred'][task]}\n",
    "            p_df = tidy_bpnet_predictions_nexus(predictions = p, tasks = [task])\n",
    "            p_df['task'] = task\n",
    "            p_df['region_idx'] = r\n",
    "            preds_df = preds_df.append(p_df) \n",
    "            c_df = pd.DataFrame(preds_all[r]['contrib_score'][f'{task}/{contrib_type}']*preds_all[r]['seq'], columns = ['A','C','G','T'])\n",
    "            #c_df = pd.DataFrame(preds_all[r]['contrib_score'][f'{task}/{contrib_type}'], columns = ['A','C','G','T'])\n",
    "            c_df['task'] = task\n",
    "            c_df['position'] = list(range(c_df.shape[0]))\n",
    "            c_df['region_idx'] = r\n",
    "            contrib_df = contrib_df.append(c_df)\n",
    "    return(preds_df, contrib_df)\n",
    "    \n",
    "\n",
    "can_cited2_predictions, can_cited2_contribution = export_predictions_all(preds_all=can_cited2_seq_preds, tasks=['tead4', 'tfap2c', 'yap1', 'cdx2', 'gata3']) \n",
    "can_amotl2_predictions, can_amotl2_contribution = export_predictions_all(preds_all=can_amotl2_seq_preds, tasks=['tead4', 'tfap2c', 'yap1', 'cdx2', 'gata3']) \n",
    "can_bmp7_predictions, can_bmp7_contribution = export_predictions_all(preds_all=can_bmp7_seq_preds, tasks=['tead4', 'tfap2c', 'yap1', 'cdx2', 'gata3']) \n",
    "can_tjp1_predictions, can_tjp1_contribution = export_predictions_all(preds_all=can_tjp1_seq_preds, tasks=['tead4', 'tfap2c', 'yap1', 'cdx2', 'gata3']) \n",
    "can_rin3_predictions, can_rin3_contribution = export_predictions_all(preds_all=can_rin3_seq_preds, tasks=['tead4', 'tfap2c', 'yap1', 'cdx2', 'gata3']) \n",
    "can_ezr_predictions, can_ezr_contribution = export_predictions_all(preds_all=can_ezr_seq_preds, tasks=['tead4', 'tfap2c', 'yap1', 'cdx2', 'gata3']) \n"
   ]
  },
  {
   "cell_type": "code",
   "execution_count": 18,
   "metadata": {},
   "outputs": [
    {
     "data": {
      "text/html": [
       "<div>\n",
       "<style scoped>\n",
       "    .dataframe tbody tr th:only-of-type {\n",
       "        vertical-align: middle;\n",
       "    }\n",
       "\n",
       "    .dataframe tbody tr th {\n",
       "        vertical-align: top;\n",
       "    }\n",
       "\n",
       "    .dataframe thead th {\n",
       "        text-align: right;\n",
       "    }\n",
       "</style>\n",
       "<table border=\"1\" class=\"dataframe\">\n",
       "  <thead>\n",
       "    <tr style=\"text-align: right;\">\n",
       "      <th></th>\n",
       "      <th>prediction</th>\n",
       "      <th>position</th>\n",
       "      <th>task</th>\n",
       "      <th>strand</th>\n",
       "      <th>region_idx</th>\n",
       "    </tr>\n",
       "  </thead>\n",
       "  <tbody>\n",
       "    <tr>\n",
       "      <th>0</th>\n",
       "      <td>0.008497</td>\n",
       "      <td>0</td>\n",
       "      <td>tead4</td>\n",
       "      <td>+</td>\n",
       "      <td>0</td>\n",
       "    </tr>\n",
       "    <tr>\n",
       "      <th>1</th>\n",
       "      <td>0.004983</td>\n",
       "      <td>1</td>\n",
       "      <td>tead4</td>\n",
       "      <td>+</td>\n",
       "      <td>0</td>\n",
       "    </tr>\n",
       "    <tr>\n",
       "      <th>2</th>\n",
       "      <td>0.003154</td>\n",
       "      <td>2</td>\n",
       "      <td>tead4</td>\n",
       "      <td>+</td>\n",
       "      <td>0</td>\n",
       "    </tr>\n",
       "    <tr>\n",
       "      <th>3</th>\n",
       "      <td>0.003915</td>\n",
       "      <td>3</td>\n",
       "      <td>tead4</td>\n",
       "      <td>+</td>\n",
       "      <td>0</td>\n",
       "    </tr>\n",
       "    <tr>\n",
       "      <th>4</th>\n",
       "      <td>0.002088</td>\n",
       "      <td>4</td>\n",
       "      <td>tead4</td>\n",
       "      <td>+</td>\n",
       "      <td>0</td>\n",
       "    </tr>\n",
       "    <tr>\n",
       "      <th>...</th>\n",
       "      <td>...</td>\n",
       "      <td>...</td>\n",
       "      <td>...</td>\n",
       "      <td>...</td>\n",
       "      <td>...</td>\n",
       "    </tr>\n",
       "    <tr>\n",
       "      <th>995</th>\n",
       "      <td>-0.011377</td>\n",
       "      <td>995</td>\n",
       "      <td>gata3</td>\n",
       "      <td>-</td>\n",
       "      <td>1</td>\n",
       "    </tr>\n",
       "    <tr>\n",
       "      <th>996</th>\n",
       "      <td>-0.009953</td>\n",
       "      <td>996</td>\n",
       "      <td>gata3</td>\n",
       "      <td>-</td>\n",
       "      <td>1</td>\n",
       "    </tr>\n",
       "    <tr>\n",
       "      <th>997</th>\n",
       "      <td>-0.009163</td>\n",
       "      <td>997</td>\n",
       "      <td>gata3</td>\n",
       "      <td>-</td>\n",
       "      <td>1</td>\n",
       "    </tr>\n",
       "    <tr>\n",
       "      <th>998</th>\n",
       "      <td>-0.014419</td>\n",
       "      <td>998</td>\n",
       "      <td>gata3</td>\n",
       "      <td>-</td>\n",
       "      <td>1</td>\n",
       "    </tr>\n",
       "    <tr>\n",
       "      <th>999</th>\n",
       "      <td>-0.010983</td>\n",
       "      <td>999</td>\n",
       "      <td>gata3</td>\n",
       "      <td>-</td>\n",
       "      <td>1</td>\n",
       "    </tr>\n",
       "  </tbody>\n",
       "</table>\n",
       "<p>20000 rows × 5 columns</p>\n",
       "</div>"
      ],
      "text/plain": [
       "     prediction  position   task strand  region_idx\n",
       "0      0.008497         0  tead4      +           0\n",
       "1      0.004983         1  tead4      +           0\n",
       "2      0.003154         2  tead4      +           0\n",
       "3      0.003915         3  tead4      +           0\n",
       "4      0.002088         4  tead4      +           0\n",
       "..          ...       ...    ...    ...         ...\n",
       "995   -0.011377       995  gata3      -           1\n",
       "996   -0.009953       996  gata3      -           1\n",
       "997   -0.009163       997  gata3      -           1\n",
       "998   -0.014419       998  gata3      -           1\n",
       "999   -0.010983       999  gata3      -           1\n",
       "\n",
       "[20000 rows x 5 columns]"
      ]
     },
     "execution_count": 18,
     "metadata": {},
     "output_type": "execute_result"
    }
   ],
   "source": [
    "can_ezr_predictions"
   ]
  },
  {
   "cell_type": "code",
   "execution_count": 19,
   "metadata": {},
   "outputs": [
    {
     "data": {
      "text/html": [
       "<div>\n",
       "<style scoped>\n",
       "    .dataframe tbody tr th:only-of-type {\n",
       "        vertical-align: middle;\n",
       "    }\n",
       "\n",
       "    .dataframe tbody tr th {\n",
       "        vertical-align: top;\n",
       "    }\n",
       "\n",
       "    .dataframe thead th {\n",
       "        text-align: right;\n",
       "    }\n",
       "</style>\n",
       "<table border=\"1\" class=\"dataframe\">\n",
       "  <thead>\n",
       "    <tr style=\"text-align: right;\">\n",
       "      <th></th>\n",
       "      <th>A</th>\n",
       "      <th>C</th>\n",
       "      <th>G</th>\n",
       "      <th>T</th>\n",
       "      <th>task</th>\n",
       "      <th>position</th>\n",
       "      <th>region_idx</th>\n",
       "    </tr>\n",
       "  </thead>\n",
       "  <tbody>\n",
       "    <tr>\n",
       "      <th>0</th>\n",
       "      <td>-0.0</td>\n",
       "      <td>-0.000000</td>\n",
       "      <td>0.000247</td>\n",
       "      <td>-0.000000</td>\n",
       "      <td>tead4</td>\n",
       "      <td>0</td>\n",
       "      <td>0</td>\n",
       "    </tr>\n",
       "    <tr>\n",
       "      <th>1</th>\n",
       "      <td>-0.0</td>\n",
       "      <td>0.000402</td>\n",
       "      <td>-0.000000</td>\n",
       "      <td>-0.000000</td>\n",
       "      <td>tead4</td>\n",
       "      <td>1</td>\n",
       "      <td>0</td>\n",
       "    </tr>\n",
       "    <tr>\n",
       "      <th>2</th>\n",
       "      <td>-0.0</td>\n",
       "      <td>0.000000</td>\n",
       "      <td>-0.000000</td>\n",
       "      <td>-0.000052</td>\n",
       "      <td>tead4</td>\n",
       "      <td>2</td>\n",
       "      <td>0</td>\n",
       "    </tr>\n",
       "    <tr>\n",
       "      <th>3</th>\n",
       "      <td>-0.0</td>\n",
       "      <td>0.000048</td>\n",
       "      <td>-0.000000</td>\n",
       "      <td>0.000000</td>\n",
       "      <td>tead4</td>\n",
       "      <td>3</td>\n",
       "      <td>0</td>\n",
       "    </tr>\n",
       "    <tr>\n",
       "      <th>4</th>\n",
       "      <td>-0.0</td>\n",
       "      <td>0.000000</td>\n",
       "      <td>-0.000000</td>\n",
       "      <td>0.000046</td>\n",
       "      <td>tead4</td>\n",
       "      <td>4</td>\n",
       "      <td>0</td>\n",
       "    </tr>\n",
       "    <tr>\n",
       "      <th>...</th>\n",
       "      <td>...</td>\n",
       "      <td>...</td>\n",
       "      <td>...</td>\n",
       "      <td>...</td>\n",
       "      <td>...</td>\n",
       "      <td>...</td>\n",
       "      <td>...</td>\n",
       "    </tr>\n",
       "    <tr>\n",
       "      <th>995</th>\n",
       "      <td>0.0</td>\n",
       "      <td>0.000000</td>\n",
       "      <td>0.000000</td>\n",
       "      <td>-0.003036</td>\n",
       "      <td>gata3</td>\n",
       "      <td>995</td>\n",
       "      <td>1</td>\n",
       "    </tr>\n",
       "    <tr>\n",
       "      <th>996</th>\n",
       "      <td>0.0</td>\n",
       "      <td>-0.000207</td>\n",
       "      <td>0.000000</td>\n",
       "      <td>0.000000</td>\n",
       "      <td>gata3</td>\n",
       "      <td>996</td>\n",
       "      <td>1</td>\n",
       "    </tr>\n",
       "    <tr>\n",
       "      <th>997</th>\n",
       "      <td>0.0</td>\n",
       "      <td>0.000000</td>\n",
       "      <td>0.003174</td>\n",
       "      <td>0.000000</td>\n",
       "      <td>gata3</td>\n",
       "      <td>997</td>\n",
       "      <td>1</td>\n",
       "    </tr>\n",
       "    <tr>\n",
       "      <th>998</th>\n",
       "      <td>0.0</td>\n",
       "      <td>-0.000682</td>\n",
       "      <td>0.000000</td>\n",
       "      <td>0.000000</td>\n",
       "      <td>gata3</td>\n",
       "      <td>998</td>\n",
       "      <td>1</td>\n",
       "    </tr>\n",
       "    <tr>\n",
       "      <th>999</th>\n",
       "      <td>0.0</td>\n",
       "      <td>-0.001053</td>\n",
       "      <td>0.000000</td>\n",
       "      <td>0.000000</td>\n",
       "      <td>gata3</td>\n",
       "      <td>999</td>\n",
       "      <td>1</td>\n",
       "    </tr>\n",
       "  </tbody>\n",
       "</table>\n",
       "<p>10000 rows × 7 columns</p>\n",
       "</div>"
      ],
      "text/plain": [
       "       A         C         G         T   task  position  region_idx\n",
       "0   -0.0 -0.000000  0.000247 -0.000000  tead4         0           0\n",
       "1   -0.0  0.000402 -0.000000 -0.000000  tead4         1           0\n",
       "2   -0.0  0.000000 -0.000000 -0.000052  tead4         2           0\n",
       "3   -0.0  0.000048 -0.000000  0.000000  tead4         3           0\n",
       "4   -0.0  0.000000 -0.000000  0.000046  tead4         4           0\n",
       "..   ...       ...       ...       ...    ...       ...         ...\n",
       "995  0.0  0.000000  0.000000 -0.003036  gata3       995           1\n",
       "996  0.0 -0.000207  0.000000  0.000000  gata3       996           1\n",
       "997  0.0  0.000000  0.003174  0.000000  gata3       997           1\n",
       "998  0.0 -0.000682  0.000000  0.000000  gata3       998           1\n",
       "999  0.0 -0.001053  0.000000  0.000000  gata3       999           1\n",
       "\n",
       "[10000 rows x 7 columns]"
      ]
     },
     "execution_count": 19,
     "metadata": {},
     "output_type": "execute_result"
    }
   ],
   "source": [
    "can_ezr_contribution"
   ]
  },
  {
   "cell_type": "code",
   "execution_count": 12,
   "metadata": {
    "ExecuteTime": {
     "end_time": "2019-03-19T19:51:27.110716Z",
     "start_time": "2019-03-19T19:51:26.411350Z"
    }
   },
   "outputs": [],
   "source": [
    "#Write to csv for import to R\n",
    "can_cited2_predictions.to_csv(\"can_cited2_predict.csv\",index = False)\n",
    "can_cited2_contribution.to_csv(\"can_cited2_contrib.csv\",index = False)\n",
    "\n",
    "can_amotl2_predictions.to_csv(\"can_amotl2_predict.csv\",index = False)\n",
    "can_amotl2_contribution.to_csv(\"can_amotl2_contrib.csv\",index = False)\n",
    "\n",
    "can_bmp7_predictions.to_csv(\"can_bmp7_predict.csv\",index = False)\n",
    "can_bmp7_contribution.to_csv(\"can_bmp7_contrib.csv\",index = False)\n",
    "\n",
    "can_tjp1_predictions.to_csv(\"can_tjp1_predict.csv\",index = False)\n",
    "can_tjp1_contribution.to_csv(\"can_tjp1_contrib.csv\",index = False)\n",
    "\n",
    "can_tjp1_predictions.to_csv(\"can_tjp1_predict_negstrand.csv\",index = False)\n",
    "can_tjp1_contribution.to_csv(\"can_tjp1_contrib_negstrand.csv\",index = False)\n",
    "\n",
    "can_rin3_predictions.to_csv(\"can_rin3_predict.csv\",index = False)\n",
    "can_rin3_contribution.to_csv(\"can_rin3_contrib.csv\",index = False)\n",
    "\n",
    "can_ezr_predictions.to_csv(\"can_ezr_predict.csv\",index = False)\n",
    "can_ezr_contribution.to_csv(\"can_ezr_contrib.csv\",index = False)"
   ]
  },
  {
   "cell_type": "code",
   "execution_count": null,
   "metadata": {},
   "outputs": [],
   "source": []
  }
 ],
 "metadata": {
  "kernelspec": {
   "display_name": "bpnet",
   "language": "python",
   "name": "bpnet"
  },
  "language_info": {
   "codemirror_mode": {
    "name": "ipython",
    "version": 3
   },
   "file_extension": ".py",
   "mimetype": "text/x-python",
   "name": "python",
   "nbconvert_exporter": "python",
   "pygments_lexer": "ipython3",
   "version": "3.6.13"
  },
  "toc": {
   "base_numbering": 1,
   "nav_menu": {},
   "number_sections": true,
   "sideBar": true,
   "skip_h1_title": false,
   "title_cell": "Table of Contents",
   "title_sidebar": "Contents",
   "toc_cell": true,
   "toc_position": {},
   "toc_section_display": true,
   "toc_window_display": true
  }
 },
 "nbformat": 4,
 "nbformat_minor": 4
}
